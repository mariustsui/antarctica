{
 "cells": [
  {
   "cell_type": "code",
   "execution_count": null,
   "metadata": {},
   "outputs": [],
   "source": [
    "import arcpy\n",
    "from arcpy import *\n",
    "from arcpy.sa import *\n",
    "from arcpy.ia import *\n",
    "import os\n",
    "\n",
    "area = 'DENTONHILLS'\n",
    "bio  = 'CYANO'\n",
    "\n",
    "dem = Raster('tandemx_dem')\n",
    "cti = Raster('tandemx_cti')\n",
    "slope = Raster('tandemx_slope')\n",
    "aspect = Raster('tandemx_aspect')\n",
    "rel_aspect = Raster('relative_aspect')\n",
    "rr100 = Raster('rel_relief_100m')\n",
    "rr1000 = Raster('rel_relief_1000m')\n",
    "\n",
    "folder = 'D:\\\\PROJECT_ANTARCTICA\\\\antarctica\\\\' + area + \"\\\\\"\n",
    "in_point = folder + area + \"_points.shp\"\n",
    "prediction_type = \"PREDICT_RASTER\"\n",
    "in_features = \"NZTAB_SURVEYPOINTS\"\n",
    "variable_predict = \"CAT_\"+bio\n",
    "treat_variable_as_categorical = \"CATEGORICAL\" \n",
    "explanatory_variables = [[\"N_DEM\", \"false\"], [\"N_CTI\", \"false\"], [\"N_SLOPE\", \"false\"], [\"N_ASPECT\", \"false\"], [\"N_RASPECT\", \"false\"], [\"RR_100\", \"false\"], [\"RR_1000\", \"false\"]]\n",
    "distance_features = None\n",
    "explanatory_rasters = None\n",
    "features_to_predict = in_point\n",
    "\n",
    "output_features = folder + area + \"_FBCR_PREDICTED_\"+ bio+\"_CAT.shp\"\n",
    "\n",
    "output_raster = None\n",
    "explanatory_variable_matching = [[\"ELEVATION\", \"false\"], [\"CTI\", \"false\"], [\"SLOPE\", \"false\"], [\"ASPECT\", \"false\"], [\"REL_ASPECT\", \"false\"], [\"RR_100\", \"false\"], [\"RR_1000\", \"false\"]]\n",
    "explanatory_distance_matching = None\n",
    "explanatory_rasters_matching = None\n",
    "output_trained_features = None\n",
    "output_importance_table = folder + area + \"_FBCR_VI_\"+ bio+\"_CAT.dbf\"\n",
    "use_raster_values = True\n",
    "number_of_trees = 300\n",
    "minimum_leaf_size = 30\n",
    "maximum_level = None\n",
    "sample_size = 100\n",
    "random_sample = None\n",
    "percentage_for_training = 10\n",
    "\n",
    "arcpy.stats.Forest(prediction_type, in_features, variable_predict,\n",
    "                    treat_variable_as_categorical, explanatory_variables, distance_features,\n",
    "                    explanatory_rasters, features_to_predict, output_features, output_raster,\n",
    "                    explanatory_variable_matching, explanatory_distance_matching, \n",
    "                    explanatory_rasters_matching, output_trained_features, output_importance_table,\n",
    "                    use_raster_values, number_of_trees, minimum_leaf_size, maximum_level,\n",
    "                    sample_size, random_sample, percentage_for_training)\n",
    "\n",
    "arcpy.PointToRaster_conversion(output_features, \"PREDICTED\", folder+area+\"_PREDICTED_\"+bio+\"_CAT_Raster.tif\", \"MOST_FREQUENT\", \"\", 12, \"BUILD\" )"
   ]
  }
 ],
 "metadata": {
  "kernelspec": {
   "display_name": "ArcGISPro",
   "language": "Python",
   "name": "python3"
  },
  "language_info": {
   "file_extension": ".py",
   "name": "python",
   "version": "3"
  }
 },
 "nbformat": 4,
 "nbformat_minor": 2
}
