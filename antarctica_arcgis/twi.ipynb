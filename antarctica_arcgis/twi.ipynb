{
 "cells": [
  {
   "cell_type": "code",
   "execution_count": 2,
   "metadata": {},
   "outputs": [],
   "source": [
    "import arcpy\n",
    "from arcpy import *\n",
    "from arcpy.sa import *\n",
    "from arcpy.ia import *\n",
    "import math\n",
    "\n",
    "\n",
    "arcpy.env.workspace       = 'D:\\\\PROJECT_ANTARCTICA\\\\antarctica\\\\antarctica_arcgis\\\\antarctica_arcgis.gdb\\\\'\n",
    "arcpy.env.overwriteOutput = True\n",
    "arcpy.env.parallelProcessingFactor = \"90%\"\n",
    "\n",
    "\n",
    "SLOPE = Raster('icefree_slope')\n",
    "flow_accu = Raster(\"dem_flowaccu\")\n",
    "alpha = ( flow_accu + 1 ) * 1\n",
    "beta = SLOPE * ( math.pi / 2 ) / 90\n",
    "\n",
    "TWI = Ln( alpha / Tan(beta) ) \n",
    "TWI.save('icefree_twi')\n",
    "\n"
   ]
  }
 ],
 "metadata": {
  "kernelspec": {
   "display_name": "ArcGISPro",
   "language": "Python",
   "name": "python3"
  },
  "language_info": {
   "file_extension": ".py",
   "name": "python",
   "version": "3"
  }
 },
 "nbformat": 4,
 "nbformat_minor": 2
}
