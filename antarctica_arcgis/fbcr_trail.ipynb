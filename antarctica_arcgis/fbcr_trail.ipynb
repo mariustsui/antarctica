{
 "cells": [
  {
   "cell_type": "code",
   "execution_count": 6,
   "metadata": {},
   "outputs": [
    {
     "data": {
      "text/html": [
       "<div class='gpresult'><h2>Messages</h2><div id='messages' data-messages='[\"Start Time: Tuesday, 17 October 2023 9:36:47 pm\",\"Random Seed: 372157\",\"WARNING 001605: Distances for Geographic Coordinates (degrees, minutes, seconds) are analyzed using Chordal Distances in meters.\",\"WARNING 000642: Problems reading 10 of 896 total records.\",\"WARNING 000848: Features with bad records (only includes first 30): OBJECTID = 25, 59, 127, 206, 528, 529, 579, 751, 752, 753.\",\"WARNING 110236: The dataset is unbalanced, the variable to predict contains the following categories with low number of features: Yes [94]\",\"WARNING 110233: At least one explanatory variable contains a category with relatively few records. Consider re-running the tool using the Compensate for Sparse Categories option.\",\"WARNING 110496: The Spatial Reference Unit is not supported in the Near tool. Meters will be used to calculate distances.\",{\"element\":\"unorderedlist\",\"data\":[\"Cell Size: 0.00\"]},\"\",[{\"element\":\"table\",\"data\":[[\"Number of Trees\",\"100\"],[\"Leaf Size\",\"1\"],[\"Tree Depth Range\",\"57-102\"],[\"Mean Tree Depth\",\"78\"],[\"% of Training Available per Tree\",\"100\"],[\"Number of Randomly Sampled Variables\",\"2\"],[\"% of Training Data Excluded for Validation\",\"10\"]],\"elementProps\":{\"striped\":\"true\",\"noHeader\":true,\"title\":\"Model Characteristics\",\"0\":{\"align\":\"left\",\"pad\":\"0px\",\"wrap\":true},\"1\":{\"align\":\"right\",\"pad\":\"0px\",\"wrap\":true}}}],[{\"element\":\"table\",\"data\":[[\"Number of Trees\",\"50\",\"100\"],[\"MSE\",\"13.435\",\"13.174\"],[\" \",\" \",\" \"],[\"No\",\"4.026\",\"3.315\"],[\"Yes\",\"95.410\",\"96.142\"]],\"elementProps\":{\"striped\":\"true\",\"noHeader\":true,\"title\":\"Model Out of Bag Errors\",\"0\":{\"align\":\"left\",\"pad\":\"0px\",\"wrap\":true},\"1\":{\"align\":\"right\",\"pad\":\"0px\",\"wrap\":true},\"2\":{\"align\":\"right\",\"pad\":\"0px\",\"wrap\":true}}}],[{\"element\":\"table\",\"data\":[[\"Variable\",\"Importance\",\"%\"],[\"TANDEMX_CTI\",\"2.35\",\"16\"],[\"TANDEMX_DEM\",\"2.20\",\"15\"],[\"TANDEMX_ASPECT\",\"2.17\",\"15\"],[\"TANDEMX_SLOPE\",\"2.04\",\"14\"],[\"REL_RELIEF_100M\",\"2.04\",\"14\"],[\"RELATIVE_ASPECT\",\"1.95\",\"13\"],[\"REL_RELIEF_1000M\",\"1.91\",\"13\"]],\"elementProps\":{\"striped\":\"true\",\"title\":\"Top Variable Importance\",\"0\":{\"align\":\"left\",\"pad\":\"0px\",\"wrap\":true},\"1\":{\"align\":\"right\",\"pad\":\"0px\",\"wrap\":true},\"2\":{\"align\":\"right\",\"pad\":\"0px\",\"wrap\":true}}}],[{\"element\":\"table\",\"data\":[[\"Category\",\"F1-Score\",\"MCC\",\"Sensitivity\",\"Accuracy\"],[\"No\",\"1.00\",\"1.00\",\"1.00\",\"1.00\"],[\"Yes\",\"1.00\",\"1.00\",\"1.00\",\"1.00\"]],\"elementProps\":{\"striped\":\"true\",\"footnote\":[\"*Predictions for the data used to train the model compared to the observed categories for those features\"],\"title\":\"Training Data: Classification Diagnostics\",\"0\":{\"align\":\"left\",\"pad\":\"0px\",\"wrap\":true},\"1\":{\"align\":\"right\",\"pad\":\"0px\",\"wrap\":true},\"2\":{\"align\":\"right\",\"pad\":\"0px\",\"wrap\":true},\"3\":{\"align\":\"right\",\"pad\":\"0px\",\"wrap\":true},\"4\":{\"align\":\"right\",\"pad\":\"0px\",\"wrap\":true}}}],[{\"element\":\"table\",\"data\":[[\"Category\",\"F1-Score\",\"MCC\",\"Sensitivity\",\"Accuracy\"],[\"No\",\"0.92\",\"-0.07\",\"0.95\",\"0.85\"],[\"Yes\",\"0.00\",\"-0.07\",\"0.00\",\"0.85\"]],\"elementProps\":{\"striped\":\"true\",\"footnote\":[\"*Predictions for the test data (excluded from model training) compared to the observed values for those test features\"],\"title\":\"Validation Data: Classification Diagnostics\",\"0\":{\"align\":\"left\",\"pad\":\"0px\",\"wrap\":true},\"1\":{\"align\":\"right\",\"pad\":\"0px\",\"wrap\":true},\"2\":{\"align\":\"right\",\"pad\":\"0px\",\"wrap\":true},\"3\":{\"align\":\"right\",\"pad\":\"0px\",\"wrap\":true},\"4\":{\"align\":\"right\",\"pad\":\"0px\",\"wrap\":true}}}],\"\\n\",[{\"element\":\"table\",\"data\":[[{\"data\":\"Variable\",\"prop\":{\"rowspan\":2}},{\"data\":\"Training\",\"prop\":{\"colspan\":2}},{\"data\":\"Validation\",\"prop\":{\"text-align\":\"left\",\"colspan\":2}},{\"data\":\"Share\",\"prop\":{\"colspan\":2}}],[\"Minimum\",\"Maximum\",\"Minimum\",\"Maximum\",{\"data\":[\"Training\",{\"element\":\"sup\",\"data\":\"a\"}],\"prop\":{\"text-align\":\"right\"}},[\"Validation\",{\"element\":\"sup\",\"data\":\"b\"}]],[\"TANDEMX_DEM\",\"1.05\",\"1627.89\",\"-84.16\",\"3913.63\",\"0.91*\",\"2.46\"],[\"TANDEMX_CTI\",\"2.70\",\"7.02\",\"-1.20\",\"18.51\",\"0.60*\",\"4.56\"],[\"TANDEMX_SLOPE\",\"1.46\",\"39.78\",\"0.02\",\"88.55\",\"0.97*\",\"2.31\"],[\"TANDEMX_ASPECT\",\"14.80\",\"353.03\",\"0.15\",\"359.91\",\"0.96*\",\"1.06\"],[\"RELATIVE_ASPECT\",\"3.11\",\"176.77\",\"0.09\",\"179.93\",\"0.98*\",\"1.04\"],[\"REL_RELIEF_100M\",\"3.73\",\"144.68\",\"0.55\",\"5648.98\",\"0.99*\",\"40.07\"],[\"REL_RELIEF_1000M\",\"3.73\",\"144.68\",\"0.55\",\"5648.98\",\"0.99*\",\"40.07\"]],\"elementProps\":{\"striped\":\"true\",\"footnote\":[\"(a) % of overlap between the ranges of the training data and the input explanatory variable\",\"(b) % of overlap between the ranges of the validation data and the training data\",\"*  Data ranges do not coincide. Training or validation is occurring with incomplete data.\",\"+  Ranges of the training data and prediction data do not coincide and the tool is attempting to extrapolate.\"],\"title\":\"Explanatory Variable Range Diagnostics\",\"0\":{\"align\":\"left\",\"pad\":\"0px\",\"wrap\":true},\"1\":{\"align\":\"left\",\"pad\":\"0px\",\"wrap\":true},\"2\":{\"align\":\"left\",\"pad\":\"0px\",\"wrap\":true},\"3\":{\"align\":\"left\",\"pad\":\"0px\",\"wrap\":true},\"4\":{\"align\":\"left\",\"pad\":\"0px\",\"wrap\":true},\"5\":{\"align\":\"right\",\"pad\":\"0px\",\"wrap\":true},\"6\":{\"align\":\"right\",\"pad\":\"0px\",\"wrap\":true}}}],\"Succeeded at Tuesday, 17 October 2023 9:39:12 pm (Elapsed Time: 2 minutes 25 seconds)\"]' data-show='true'><div id = 'default' /></div></div>"
      ],
      "text/plain": [
       "<Result ''>"
      ]
     },
     "execution_count": 6,
     "metadata": {},
     "output_type": "execute_result"
    }
   ],
   "source": [
    "import arcpy\n",
    "from arcpy import *\n",
    "from arcpy.sa import *\n",
    "from arcpy.ia import *\n",
    "import os\n",
    "\n",
    "area = 'DENTONHILLS'\n",
    "bio  = 'CYANO'\n",
    "\n",
    "dem = Raster('tandemx_dem')\n",
    "cti = Raster('tandemx_cti')\n",
    "slope = Raster('tandemx_slope')\n",
    "aspect = Raster('tandemx_aspect')\n",
    "rel_aspect = Raster('relative_aspect')\n",
    "rr100 = Raster('rel_relief_100m')\n",
    "rr1000 = Raster('rel_relief_1000m')\n",
    "\n",
    "folder = 'D:\\\\PROJECT_ANTARCTICA\\\\antarctica\\\\' + area + \"\\\\\"\n",
    "in_point = folder + area + \"_points.shp\"\n",
    "prediction_type = \"PREDICT_RASTER\"\n",
    "in_features = \"NZTAB_SURVEYPOINTS\"\n",
    "variable_predict = \"CAT_\"+bio\n",
    "treat_variable_as_categorical = \"CATEGORICAL\" \n",
    "explanatory_variables = None\n",
    "distance_features = None\n",
    "explanatory_rasters = [[dem, \"false\"], [cti, \"false\"], [slope, \"false\"], [aspect, \"false\"], [rel_aspect, \"false\"], [rr100, \"false\"], [rr1000, \"false\"]]\n",
    "features_to_predict = None\n",
    "\n",
    "output_features = None\n",
    "\n",
    "#output_raster = folder + area + \"_FBCR_PREDICTED_\"+ bio+\"_CAT.tif\"\n",
    "output_raster = r'temp_raster'\n",
    "\n",
    "explanatory_variable_matching = None\n",
    "explanatory_distance_matching = None\n",
    "explanatory_rasters_matching = [[dem, \"dem\"], [cti, \"cti\"], [slope, \"slope\"], [aspect, \"aspect\"], [rel_aspect, \"rel_aspect\"], [rr100, \"rr100\"], [rr1000, \"rr1000\"]]\n",
    "output_trained_features = None\n",
    "output_importance_table = folder + area + \"_FBCR_VI_\"+ bio+\"_CAT.dbf\"\n",
    "use_raster_values = True\n",
    "number_of_trees = 100\n",
    "minimum_leaf_size = None\n",
    "maximum_level = None\n",
    "sample_size = 100\n",
    "random_sample = None\n",
    "percentage_for_training = 10\n",
    "\n",
    "arcpy.stats.Forest(prediction_type, in_features, variable_predict,\n",
    "                    treat_variable_as_categorical, explanatory_variables, distance_features,\n",
    "                    explanatory_rasters, features_to_predict, output_features, output_raster,\n",
    "                    explanatory_variable_matching, explanatory_distance_matching, \n",
    "                    explanatory_rasters_matching, output_trained_features, output_importance_table,\n",
    "                    use_raster_values, number_of_trees, minimum_leaf_size, maximum_level,\n",
    "                    sample_size, random_sample, percentage_for_training)\n",
    "\n",
    "output_raster.save(folder + area + \"_FBCR_PREDICTED_\"+ bio+\"_CAT.tif\")"
   ]
  }
 ],
 "metadata": {
  "kernelspec": {
   "display_name": "ArcGISPro",
   "language": "Python",
   "name": "python3"
  },
  "language_info": {
   "file_extension": ".py",
   "name": "python",
   "version": "3"
  }
 },
 "nbformat": 4,
 "nbformat_minor": 2
}
